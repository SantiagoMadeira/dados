{
  "nbformat": 4,
  "nbformat_minor": 0,
  "metadata": {
    "colab": {
      "name": "Exemplo_leitura.ipynb",
      "provenance": [],
      "authorship_tag": "ABX9TyPR31NMGy3BN/eBsNV/xI26",
      "include_colab_link": true
    },
    "kernelspec": {
      "name": "python3",
      "display_name": "Python 3"
    }
  },
  "cells": [
    {
      "cell_type": "markdown",
      "metadata": {
        "id": "view-in-github",
        "colab_type": "text"
      },
      "source": [
        "<a href=\"https://colab.research.google.com/github/SantiagoMadeira/dados/blob/main/Exemplo_leitura.ipynb\" target=\"_parent\"><img src=\"https://colab.research.google.com/assets/colab-badge.svg\" alt=\"Open In Colab\"/></a>"
      ]
    },
    {
      "cell_type": "code",
      "metadata": {
        "id": "-STnDxN630xs"
      },
      "source": [
        "import pandas as pd"
      ],
      "execution_count": 2,
      "outputs": []
    },
    {
      "cell_type": "markdown",
      "metadata": {
        "id": "NKNamDujIGy_"
      },
      "source": [
        "Ler o conteudo do ficheiro com dados de mamografias"
      ]
    },
    {
      "cell_type": "code",
      "metadata": {
        "id": "RE9YvG6A34QW"
      },
      "source": [
        "l_df_mammography = pd.read_csv('https://raw.githubusercontent.com/SantiagoMadeira/dados/main/mammography.csv')"
      ],
      "execution_count": 3,
      "outputs": []
    },
    {
      "cell_type": "markdown",
      "metadata": {
        "id": "dxZjas3bILgD"
      },
      "source": [
        "Ver as primeiras 10 linhas do ficheiro"
      ]
    },
    {
      "cell_type": "code",
      "metadata": {
        "colab": {
          "base_uri": "https://localhost:8080/",
          "height": 343
        },
        "id": "GGBs4CaH6MXx",
        "outputId": "42dbead1-bef6-43fc-a5b0-f14401488552"
      },
      "source": [
        "l_df_mammography.head(10)"
      ],
      "execution_count": 4,
      "outputs": [
        {
          "output_type": "execute_result",
          "data": {
            "text/html": [
              "<div>\n",
              "<style scoped>\n",
              "    .dataframe tbody tr th:only-of-type {\n",
              "        vertical-align: middle;\n",
              "    }\n",
              "\n",
              "    .dataframe tbody tr th {\n",
              "        vertical-align: top;\n",
              "    }\n",
              "\n",
              "    .dataframe thead th {\n",
              "        text-align: right;\n",
              "    }\n",
              "</style>\n",
              "<table border=\"1\" class=\"dataframe\">\n",
              "  <thead>\n",
              "    <tr style=\"text-align: right;\">\n",
              "      <th></th>\n",
              "      <th>V1</th>\n",
              "      <th>V2</th>\n",
              "      <th>V3</th>\n",
              "      <th>V4</th>\n",
              "      <th>V5</th>\n",
              "      <th>V6</th>\n",
              "      <th>Goal</th>\n",
              "    </tr>\n",
              "  </thead>\n",
              "  <tbody>\n",
              "    <tr>\n",
              "      <th>0</th>\n",
              "      <td>0.230020</td>\n",
              "      <td>5.072578</td>\n",
              "      <td>-0.276061</td>\n",
              "      <td>0.832444</td>\n",
              "      <td>-0.377866</td>\n",
              "      <td>0.480322</td>\n",
              "      <td>0</td>\n",
              "    </tr>\n",
              "    <tr>\n",
              "      <th>1</th>\n",
              "      <td>0.155491</td>\n",
              "      <td>-0.169390</td>\n",
              "      <td>0.670652</td>\n",
              "      <td>-0.859553</td>\n",
              "      <td>-0.377866</td>\n",
              "      <td>-0.945723</td>\n",
              "      <td>0</td>\n",
              "    </tr>\n",
              "    <tr>\n",
              "      <th>2</th>\n",
              "      <td>-0.784415</td>\n",
              "      <td>-0.443654</td>\n",
              "      <td>5.674705</td>\n",
              "      <td>-0.859553</td>\n",
              "      <td>-0.377866</td>\n",
              "      <td>-0.945723</td>\n",
              "      <td>0</td>\n",
              "    </tr>\n",
              "    <tr>\n",
              "      <th>3</th>\n",
              "      <td>0.546088</td>\n",
              "      <td>0.131415</td>\n",
              "      <td>-0.456387</td>\n",
              "      <td>-0.859553</td>\n",
              "      <td>-0.377866</td>\n",
              "      <td>-0.945723</td>\n",
              "      <td>0</td>\n",
              "    </tr>\n",
              "    <tr>\n",
              "      <th>4</th>\n",
              "      <td>-0.102987</td>\n",
              "      <td>-0.394994</td>\n",
              "      <td>-0.140816</td>\n",
              "      <td>0.979703</td>\n",
              "      <td>-0.377866</td>\n",
              "      <td>1.013566</td>\n",
              "      <td>0</td>\n",
              "    </tr>\n",
              "    <tr>\n",
              "      <th>5</th>\n",
              "      <td>-0.180395</td>\n",
              "      <td>-0.381723</td>\n",
              "      <td>0.264918</td>\n",
              "      <td>0.772950</td>\n",
              "      <td>1.468981</td>\n",
              "      <td>0.852069</td>\n",
              "      <td>0</td>\n",
              "    </tr>\n",
              "    <tr>\n",
              "      <th>6</th>\n",
              "      <td>-0.068603</td>\n",
              "      <td>-0.346334</td>\n",
              "      <td>-0.185897</td>\n",
              "      <td>0.899111</td>\n",
              "      <td>1.743381</td>\n",
              "      <td>1.062319</td>\n",
              "      <td>0</td>\n",
              "    </tr>\n",
              "    <tr>\n",
              "      <th>7</th>\n",
              "      <td>-0.082492</td>\n",
              "      <td>-0.448077</td>\n",
              "      <td>0.896060</td>\n",
              "      <td>-0.859553</td>\n",
              "      <td>-0.377866</td>\n",
              "      <td>-0.945723</td>\n",
              "      <td>0</td>\n",
              "    </tr>\n",
              "    <tr>\n",
              "      <th>8</th>\n",
              "      <td>-0.151600</td>\n",
              "      <td>-0.368452</td>\n",
              "      <td>0.625571</td>\n",
              "      <td>1.197426</td>\n",
              "      <td>-0.377866</td>\n",
              "      <td>1.010519</td>\n",
              "      <td>0</td>\n",
              "    </tr>\n",
              "    <tr>\n",
              "      <th>9</th>\n",
              "      <td>-0.784415</td>\n",
              "      <td>-0.470195</td>\n",
              "      <td>-0.591631</td>\n",
              "      <td>-0.859553</td>\n",
              "      <td>-0.377866</td>\n",
              "      <td>-0.945723</td>\n",
              "      <td>0</td>\n",
              "    </tr>\n",
              "  </tbody>\n",
              "</table>\n",
              "</div>"
            ],
            "text/plain": [
              "         V1        V2        V3        V4        V5        V6  Goal\n",
              "0  0.230020  5.072578 -0.276061  0.832444 -0.377866  0.480322     0\n",
              "1  0.155491 -0.169390  0.670652 -0.859553 -0.377866 -0.945723     0\n",
              "2 -0.784415 -0.443654  5.674705 -0.859553 -0.377866 -0.945723     0\n",
              "3  0.546088  0.131415 -0.456387 -0.859553 -0.377866 -0.945723     0\n",
              "4 -0.102987 -0.394994 -0.140816  0.979703 -0.377866  1.013566     0\n",
              "5 -0.180395 -0.381723  0.264918  0.772950  1.468981  0.852069     0\n",
              "6 -0.068603 -0.346334 -0.185897  0.899111  1.743381  1.062319     0\n",
              "7 -0.082492 -0.448077  0.896060 -0.859553 -0.377866 -0.945723     0\n",
              "8 -0.151600 -0.368452  0.625571  1.197426 -0.377866  1.010519     0\n",
              "9 -0.784415 -0.470195 -0.591631 -0.859553 -0.377866 -0.945723     0"
            ]
          },
          "metadata": {
            "tags": []
          },
          "execution_count": 4
        }
      ]
    },
    {
      "cell_type": "markdown",
      "metadata": {
        "id": "WaB_IS7VIO-d"
      },
      "source": [
        "resumo dos dados do data set"
      ]
    },
    {
      "cell_type": "code",
      "metadata": {
        "colab": {
          "base_uri": "https://localhost:8080/",
          "height": 284
        },
        "id": "ljxyVjXy6i1H",
        "outputId": "4d9b1594-c191-41ac-faf9-b668a4ec35a5"
      },
      "source": [
        "l_df_mammography.describe()"
      ],
      "execution_count": 5,
      "outputs": [
        {
          "output_type": "execute_result",
          "data": {
            "text/html": [
              "<div>\n",
              "<style scoped>\n",
              "    .dataframe tbody tr th:only-of-type {\n",
              "        vertical-align: middle;\n",
              "    }\n",
              "\n",
              "    .dataframe tbody tr th {\n",
              "        vertical-align: top;\n",
              "    }\n",
              "\n",
              "    .dataframe thead th {\n",
              "        text-align: right;\n",
              "    }\n",
              "</style>\n",
              "<table border=\"1\" class=\"dataframe\">\n",
              "  <thead>\n",
              "    <tr style=\"text-align: right;\">\n",
              "      <th></th>\n",
              "      <th>V1</th>\n",
              "      <th>V2</th>\n",
              "      <th>V3</th>\n",
              "      <th>V4</th>\n",
              "      <th>V5</th>\n",
              "      <th>V6</th>\n",
              "      <th>Goal</th>\n",
              "    </tr>\n",
              "  </thead>\n",
              "  <tbody>\n",
              "    <tr>\n",
              "      <th>count</th>\n",
              "      <td>1.118300e+04</td>\n",
              "      <td>1.118300e+04</td>\n",
              "      <td>1.118300e+04</td>\n",
              "      <td>1.118300e+04</td>\n",
              "      <td>1.118300e+04</td>\n",
              "      <td>1.118300e+04</td>\n",
              "      <td>11183.000000</td>\n",
              "    </tr>\n",
              "    <tr>\n",
              "      <th>mean</th>\n",
              "      <td>1.096535e-10</td>\n",
              "      <td>1.297595e-09</td>\n",
              "      <td>5.698113e-10</td>\n",
              "      <td>-2.435705e-09</td>\n",
              "      <td>-1.120680e-09</td>\n",
              "      <td>1.459483e-09</td>\n",
              "      <td>0.023250</td>\n",
              "    </tr>\n",
              "    <tr>\n",
              "      <th>std</th>\n",
              "      <td>1.000000e+00</td>\n",
              "      <td>1.000000e+00</td>\n",
              "      <td>1.000000e+00</td>\n",
              "      <td>1.000000e+00</td>\n",
              "      <td>1.000000e+00</td>\n",
              "      <td>1.000000e+00</td>\n",
              "      <td>0.150702</td>\n",
              "    </tr>\n",
              "    <tr>\n",
              "      <th>min</th>\n",
              "      <td>-7.844148e-01</td>\n",
              "      <td>-4.701953e-01</td>\n",
              "      <td>-5.916315e-01</td>\n",
              "      <td>-8.595525e-01</td>\n",
              "      <td>-3.778657e-01</td>\n",
              "      <td>-9.457232e-01</td>\n",
              "      <td>0.000000</td>\n",
              "    </tr>\n",
              "    <tr>\n",
              "      <th>25%</th>\n",
              "      <td>-7.844148e-01</td>\n",
              "      <td>-4.701953e-01</td>\n",
              "      <td>-5.916315e-01</td>\n",
              "      <td>-8.595525e-01</td>\n",
              "      <td>-3.778657e-01</td>\n",
              "      <td>-9.457232e-01</td>\n",
              "      <td>0.000000</td>\n",
              "    </tr>\n",
              "    <tr>\n",
              "      <th>50%</th>\n",
              "      <td>-1.085769e-01</td>\n",
              "      <td>-3.949941e-01</td>\n",
              "      <td>-2.309790e-01</td>\n",
              "      <td>-8.595525e-01</td>\n",
              "      <td>-3.778657e-01</td>\n",
              "      <td>-9.457232e-01</td>\n",
              "      <td>0.000000</td>\n",
              "    </tr>\n",
              "    <tr>\n",
              "      <th>75%</th>\n",
              "      <td>3.139489e-01</td>\n",
              "      <td>-7.649473e-02</td>\n",
              "      <td>2.198366e-01</td>\n",
              "      <td>8.202077e-01</td>\n",
              "      <td>-3.778657e-01</td>\n",
              "      <td>1.016613e+00</td>\n",
              "      <td>0.000000</td>\n",
              "    </tr>\n",
              "    <tr>\n",
              "      <th>max</th>\n",
              "      <td>3.150844e+01</td>\n",
              "      <td>5.085849e+00</td>\n",
              "      <td>2.947777e+01</td>\n",
              "      <td>9.591164e+00</td>\n",
              "      <td>2.361712e+01</td>\n",
              "      <td>1.949027e+00</td>\n",
              "      <td>1.000000</td>\n",
              "    </tr>\n",
              "  </tbody>\n",
              "</table>\n",
              "</div>"
            ],
            "text/plain": [
              "                 V1            V2  ...            V6          Goal\n",
              "count  1.118300e+04  1.118300e+04  ...  1.118300e+04  11183.000000\n",
              "mean   1.096535e-10  1.297595e-09  ...  1.459483e-09      0.023250\n",
              "std    1.000000e+00  1.000000e+00  ...  1.000000e+00      0.150702\n",
              "min   -7.844148e-01 -4.701953e-01  ... -9.457232e-01      0.000000\n",
              "25%   -7.844148e-01 -4.701953e-01  ... -9.457232e-01      0.000000\n",
              "50%   -1.085769e-01 -3.949941e-01  ... -9.457232e-01      0.000000\n",
              "75%    3.139489e-01 -7.649473e-02  ...  1.016613e+00      0.000000\n",
              "max    3.150844e+01  5.085849e+00  ...  1.949027e+00      1.000000\n",
              "\n",
              "[8 rows x 7 columns]"
            ]
          },
          "metadata": {
            "tags": []
          },
          "execution_count": 5
        }
      ]
    },
    {
      "cell_type": "code",
      "metadata": {
        "id": "DgofaPGOH-cK"
      },
      "source": [
        ""
      ],
      "execution_count": null,
      "outputs": []
    }
  ]
}